{
 "cells": [
  {
   "cell_type": "markdown",
   "metadata": {},
   "source": [
    "# weather api agent\n",
    "\n",
    "this agent has a couple tools to call the weather.gov API\n"
   ]
  },
  {
   "cell_type": "markdown",
   "metadata": {},
   "source": [
    "## install dependencies"
   ]
  },
  {
   "cell_type": "code",
   "execution_count": 1,
   "metadata": {},
   "outputs": [],
   "source": [
    "# %pip install --quiet -U langchain_openai langchain_core langgraph langchain-pinecone pinecone-notebooks"
   ]
  },
  {
   "cell_type": "markdown",
   "metadata": {},
   "source": [
    "## set the OpenAI API Key"
   ]
  },
  {
   "cell_type": "code",
   "execution_count": 2,
   "metadata": {},
   "outputs": [],
   "source": [
    "import os, getpass\n",
    "\n",
    "def _set_env(var: str):\n",
    "  if not os.environ.get(var):\n",
    "    os.environ[var] = getpass.getpass(f\"Enter your {var}: \")\n",
    "\n",
    "_set_env(\"OPENAI_API_KEY\")"
   ]
  },
  {
   "cell_type": "markdown",
   "metadata": {},
   "source": [
    "## define the LLM model"
   ]
  },
  {
   "cell_type": "code",
   "execution_count": 3,
   "metadata": {},
   "outputs": [],
   "source": [
    "from langchain_openai import ChatOpenAI\n",
    "\n",
    "llm = ChatOpenAI(model=\"gpt-4o-mini\")"
   ]
  },
  {
   "cell_type": "markdown",
   "metadata": {},
   "source": [
    "## build the weather tool"
   ]
  },
  {
   "cell_type": "code",
   "execution_count": 4,
   "metadata": {},
   "outputs": [],
   "source": [
    "from main import get_one_day_forecast, get_week_forecast\n",
    "\n",
    "def get_weather_current():\n",
    "    \"\"\"\n",
    "        Use this to get the current weather.\n",
    "    \"\"\"\n",
    "                \n",
    "    return get_one_day_forecast()\n",
    "\n",
    "def get_weather_week():\n",
    "    \"\"\"\n",
    "    Use this to get the weather forecast for the next week.\n",
    "    \"\"\"\n",
    "    \n",
    "    # Assuming get_week_forecast() is defined in main.py similar to get_one_day_forecast()\n",
    "    return get_week_forecast()\n",
    "\n",
    "weather_tool = [get_weather_current, get_weather_week]"
   ]
  },
  {
   "cell_type": "markdown",
   "metadata": {},
   "source": [
    "## bind the tool"
   ]
  },
  {
   "cell_type": "code",
   "execution_count": 5,
   "metadata": {},
   "outputs": [],
   "source": [
    "llm_with_weather_tool = llm.bind_tools(weather_tool)"
   ]
  },
  {
   "cell_type": "markdown",
   "metadata": {},
   "source": [
    "## build the LLM node"
   ]
  },
  {
   "cell_type": "code",
   "execution_count": 6,
   "metadata": {},
   "outputs": [],
   "source": [
    "from langgraph.graph import MessagesState\n",
    "from langchain_core.messages import trim_messages\n",
    "\n",
    "def llm_with_tools_node(state: MessagesState):\n",
    "\n",
    "  # trim the messages to the last 150 tokens worth\n",
    "  messages = trim_messages(\n",
    "      messages=state[\"messages\"],\n",
    "      strategy=\"last\",\n",
    "      token_counter=ChatOpenAI(model=\"gpt-4o-mini\"),\n",
    "      max_tokens=1000,\n",
    "      start_on=\"human\",\n",
    "      allow_partial=False,\n",
    "  )\n",
    "\n",
    "  return {\"messages\": [llm_with_weather_tool.invoke(messages)]}"
   ]
  },
  {
   "cell_type": "markdown",
   "metadata": {},
   "source": [
    "## build the graph"
   ]
  },
  {
   "cell_type": "code",
   "execution_count": 7,
   "metadata": {},
   "outputs": [
    {
     "data": {
      "image/jpeg": "[encoded data removed]",
      "text/plain": [
       "<IPython.core.display.Image object>"
      ]
     },
     "metadata": {},
     "output_type": "display_data"
    }
   ],
   "source": [
    "from langgraph.graph import StateGraph, START\n",
    "from langgraph.prebuilt import ToolNode, tools_condition\n",
    "from langgraph.checkpoint.memory import MemorySaver\n",
    "from IPython.display import Image\n",
    "\n",
    "builder = StateGraph(MessagesState)\n",
    "\n",
    "# add nodes\n",
    "builder.add_node(\"llm\", llm_with_tools_node)\n",
    "builder.add_node(\"tools\", ToolNode(weather_tool))\n",
    "\n",
    "# connect them (add edges)\n",
    "builder.add_edge(START, \"llm\")\n",
    "builder.add_conditional_edges(\"llm\", tools_condition)\n",
    "builder.add_edge(\"tools\", \"llm\")\n",
    "\n",
    "graph = builder.compile()\n",
    "\n",
    "display(Image(graph.get_graph(xray=True).draw_mermaid_png()))"
   ]
  },
  {
   "cell_type": "markdown",
   "metadata": {},
   "source": [
    "## invoke the graph\n"
   ]
  },
  {
   "cell_type": "code",
   "execution_count": 11,
   "metadata": {},
   "outputs": [
    {
     "name": "stdout",
     "output_type": "stream",
     "text": [
      "https://api.weather.gov/gridpoints/PQR/152,105/forecast\n",
      "================================\u001b[1m Human Message \u001b[0m=================================\n",
      "\n",
      "best time to windsurf this week?\n",
      "==================================\u001b[1m Ai Message \u001b[0m==================================\n",
      "Tool Calls:\n",
      "  get_weather_week (call_aoKG6nF2GuquetBcLI4Ez33R)\n",
      " Call ID: call_aoKG6nF2GuquetBcLI4Ez33R\n",
      "  Args:\n",
      "=================================\u001b[1m Tool Message \u001b[0m=================================\n",
      "Name: get_weather_week\n",
      "\n",
      "[{\"date\": \"Tonight\", \"forecast\": \"Partly cloudy. Low around 47, with temperatures rising to around 49 overnight. West wind around 3 mph.\"}, {\"date\": \"Sunday\", \"forecast\": \"Rain after 2pm. Partly sunny. High near 71, with temperatures falling to around 68 in the afternoon. Southwest wind 2 to 9 mph. Chance of precipitation is 100%. New rainfall amounts less than a tenth of an inch possible.\"}, {\"date\": \"Sunday Night\", \"forecast\": \"Rain. Cloudy. Low around 48, with temperatures rising to around 51 overnight. West wind 6 to 9 mph. Chance of precipitation is 100%. New rainfall amounts between a tenth and quarter of an inch possible.\"}, {\"date\": \"Monday\", \"forecast\": \"Rain before 11am, then rain showers. Mostly cloudy, with a high near 58. West wind 6 to 12 mph. Chance of precipitation is 80%. New rainfall amounts less than a tenth of an inch possible.\"}, {\"date\": \"Monday Night\", \"forecast\": \"A chance of rain showers before 11pm. Mostly cloudy, with a low around 38. West wind 2 to 8 mph. Chance of precipitation is 40%.\"}, {\"date\": \"Tuesday\", \"forecast\": \"Mostly sunny, with a high near 59.\"}, {\"date\": \"Tuesday Night\", \"forecast\": \"Partly cloudy, with a low around 37.\"}, {\"date\": \"Wednesday\", \"forecast\": \"Mostly sunny, with a high near 59.\"}, {\"date\": \"Wednesday Night\", \"forecast\": \"Partly cloudy, with a low around 36.\"}, {\"date\": \"Thursday\", \"forecast\": \"A chance of rain after 11am. Mostly sunny, with a high near 59.\"}, {\"date\": \"Thursday Night\", \"forecast\": \"A chance of rain. Mostly cloudy, with a low around 42.\"}, {\"date\": \"Friday\", \"forecast\": \"Rain likely. Mostly cloudy, with a high near 56.\"}, {\"date\": \"Friday Night\", \"forecast\": \"Rain likely. Mostly cloudy, with a low around 40.\"}, {\"date\": \"Saturday\", \"forecast\": \"Rain likely. Mostly cloudy, with a high near 55.\"}]\n",
      "==================================\u001b[1m Ai Message \u001b[0m==================================\n",
      "\n",
      "This week, the best time to windsurf would likely be on **Tuesday and Wednesday**, as both days are expected to be mostly sunny with high temperatures around 59°F. \n",
      "\n",
      "Here's a brief overview of the week:\n",
      "- **Sunday**: Rain expected after 2 PM.\n",
      "- **Monday**: Rain before 11 AM, then showers.\n",
      "- **Tuesday**: Mostly sunny, high near 59°F.\n",
      "- **Wednesday**: Mostly sunny, high near 59°F.\n",
      "- **Thursday**: A chance of rain after 11 AM.\n",
      "- **Friday**: Rain likely.\n",
      "- **Saturday**: Rain likely.\n",
      "\n",
      "So, aim for Tuesday or Wednesday for the best windsurfing conditions!\n"
     ]
    }
   ],
   "source": [
    "from langchain_core.messages import HumanMessage\n",
    "\n",
    "messages = [HumanMessage(content=\"best time to windsurf this week?\")]\n",
    "# messages = graph.invoke(input={\"messages\": messages})\n",
    "messages = graph.invoke(input={\"messages\": messages}) \n",
    "\n",
    "for m in messages['messages']:\n",
    "    m.pretty_print()"
   ]
  }
 ],
 "metadata": {
  "kernelspec": {
   "display_name": "venv",
   "language": "python",
   "name": "python3"
  },
  "language_info": {
   "codemirror_mode": {
    "name": "ipython",
    "version": 3
   },
   "file_extension": ".py",
   "mimetype": "text/x-python",
   "name": "python",
   "nbconvert_exporter": "python",
   "pygments_lexer": "ipython3",
   "version": "3.10.14"
  }
 },
 "nbformat": 4,
 "nbformat_minor": 2
}
