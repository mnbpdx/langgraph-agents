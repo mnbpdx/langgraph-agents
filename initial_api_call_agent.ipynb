{
  "cells": [
    {
      "cell_type": "markdown",
      "metadata": {
        "colab_type": "text",
        "id": "view-in-github"
      },
      "source": [
        "<a href=\"https://colab.research.google.com/github/mnbpdx/langgraph-agents/blob/main/initial_api_call_agent.ipynb\" target=\"_parent\"><img src=\"https://colab.research.google.com/assets/colab-badge.svg\" alt=\"Open In Colab\"/></a>"
      ]
    },
    {
      "cell_type": "markdown",
      "metadata": {
        "id": "kPxnk1c6QA7d"
      },
      "source": [
        "# inital api call agent\n",
        "\n",
        "this agent has a retrieval node that calls an api.\n"
      ]
    },
    {
      "cell_type": "markdown",
      "metadata": {
        "id": "3f1WCT1hP79i"
      },
      "source": [
        "## install dependencies"
      ]
    },
    {
      "cell_type": "code",
      "execution_count": 16,
      "metadata": {
        "id": "WHpp58lpP5jh"
      },
      "outputs": [
        {
          "name": "stdout",
          "output_type": "stream",
          "text": [
            "\n",
            "\u001b[1m[\u001b[0m\u001b[34;49mnotice\u001b[0m\u001b[1;39;49m]\u001b[0m\u001b[39;49m A new release of pip is available: \u001b[0m\u001b[31;49m24.1.2\u001b[0m\u001b[39;49m -> \u001b[0m\u001b[32;49m24.2\u001b[0m\n",
            "\u001b[1m[\u001b[0m\u001b[34;49mnotice\u001b[0m\u001b[1;39;49m]\u001b[0m\u001b[39;49m To update, run: \u001b[0m\u001b[32;49mpip install --upgrade pip\u001b[0m\n",
            "Note: you may need to restart the kernel to use updated packages.\n"
          ]
        }
      ],
      "source": [
        "%pip install --quiet -U langchain_openai langchain_core langgraph langchain-pinecone pinecone-notebooks"
      ]
    },
    {
      "cell_type": "markdown",
      "metadata": {
        "id": "ixQvSPwuQaz0"
      },
      "source": [
        "## set the OpenAI API Key"
      ]
    },
    {
      "cell_type": "code",
      "execution_count": 17,
      "metadata": {
        "colab": {
          "base_uri": "https://localhost:8080/"
        },
        "id": "ElBngd8MQeHW",
        "outputId": "7f76767e-f701-4cd2-9368-f49df5623eac"
      },
      "outputs": [],
      "source": [
        "import os, getpass\n",
        "\n",
        "def _set_env(var: str):\n",
        "  if not os.environ.get(var):\n",
        "    os.environ[var] = getpass.getpass(f\"Enter your {var}: \")\n",
        "\n",
        "_set_env(\"OPENAI_API_KEY\")"
      ]
    },
    {
      "cell_type": "markdown",
      "metadata": {
        "id": "rRzlNxwqQ-an"
      },
      "source": [
        "## define the LLM model"
      ]
    },
    {
      "cell_type": "code",
      "execution_count": 18,
      "metadata": {
        "id": "tTJADe6fRCC2"
      },
      "outputs": [],
      "source": [
        "from langchain_openai import ChatOpenAI\n",
        "\n",
        "llm = ChatOpenAI(model=\"gpt-4o-mini\")"
      ]
    },
    {
      "cell_type": "markdown",
      "metadata": {
        "id": "h6q8saVyReVr"
      },
      "source": [
        "## define tools"
      ]
    },
    {
      "cell_type": "code",
      "execution_count": 19,
      "metadata": {
        "id": "8EfyEFEkRguE"
      },
      "outputs": [],
      "source": [
        "def cozy_day():\n",
        "  \"\"\"\n",
        "  If it looks like it's going to be a cozy inside weather day,\n",
        "  run this funtion.\n",
        "\n",
        "  \"\"\"\n",
        "  print(\"cozy day!\")\n",
        "\n",
        "def outside_day():\n",
        "  \"\"\"\n",
        "  If it looks like it's going to be a fun outside weather day,\n",
        "  run this funtion.\n",
        "  \"\"\"\n",
        "  print(\"outside day!\")\n",
        "\n",
        "tools = [cozy_day, outside_day]"
      ]
    },
    {
      "cell_type": "markdown",
      "metadata": {
        "id": "dL-6KdIWRm3F"
      },
      "source": [
        "## bind tools to the LLM"
      ]
    },
    {
      "cell_type": "code",
      "execution_count": 20,
      "metadata": {
        "id": "s14vwKp9RsH_"
      },
      "outputs": [],
      "source": [
        "llm_with_tools = llm.bind_tools(tools)"
      ]
    },
    {
      "cell_type": "markdown",
      "metadata": {
        "id": "dv83d3rUR17Z"
      },
      "source": [
        "## build the LLM node"
      ]
    },
    {
      "cell_type": "code",
      "execution_count": 21,
      "metadata": {
        "id": "_MbEQFUeSCAM"
      },
      "outputs": [],
      "source": [
        "from langgraph.graph import MessagesState\n",
        "from langchain_core.messages import trim_messages\n",
        "\n",
        "def llm_with_tools_node(state: MessagesState):\n",
        "\n",
        "  # trim the messages to the last 150 tokens worth\n",
        "  messages = trim_messages(\n",
        "      messages=state[\"messages\"],\n",
        "      strategy=\"last\",\n",
        "      token_counter=ChatOpenAI(model=\"gpt-4o-mini\"),\n",
        "      max_tokens=150,\n",
        "      start_on=\"human\",\n",
        "      allow_partial=False,\n",
        "  )\n",
        "\n",
        "  return {\"messages\": [llm_with_tools.invoke(messages)]}"
      ]
    },
    {
      "cell_type": "markdown",
      "metadata": {
        "id": "5yNQArnz3Kfp"
      },
      "source": [
        "## build the retrieval node"
      ]
    },
    {
      "cell_type": "code",
      "execution_count": 22,
      "metadata": {
        "id": "DE2zQz_p3Mo5"
      },
      "outputs": [],
      "source": [
        "from langchain_core.messages import SystemMessage\n",
        "from main import get_one_day_forecast\n",
        "\n",
        "def retrieval_node(state: MessagesState):\n",
        "    weather_related_text_to_pass_llm = get_one_day_forecast()\n",
        "\n",
        "    # Create a new SystemMessage\n",
        "    system_message = SystemMessage(content=weather_related_text_to_pass_llm)\n",
        "\n",
        "    result_message = {\"messages\": [system_message] + state[\"messages\"]}\n",
        "\n",
        "    # Return the updated messages state including the new SystemMessage\n",
        "    return result_message"
      ]
    },
    {
      "cell_type": "markdown",
      "metadata": {
        "id": "AGw3Pjt3Turq"
      },
      "source": [
        "## build the graph"
      ]
    },
    {
      "cell_type": "code",
      "execution_count": 23,
      "metadata": {
        "colab": {
          "base_uri": "https://localhost:8080/",
          "height": 365
        },
        "id": "XYxj1Kk3TwsS",
        "outputId": "d3eaa729-c007-4e0a-d788-759a8cc90b8c"
      },
      "outputs": [
        {
          "data": {
            "image/jpeg": "[encoded data removed]",
            "text/plain": [
              "<IPython.core.display.Image object>"
            ]
          },
          "metadata": {},
          "output_type": "display_data"
        }
      ],
      "source": [
        "from langgraph.graph import StateGraph, START\n",
        "from langgraph.prebuilt import ToolNode, tools_condition\n",
        "from langgraph.checkpoint.memory import MemorySaver\n",
        "from IPython.display import Image\n",
        "\n",
        "builder = StateGraph(MessagesState)\n",
        "\n",
        "# add nodes\n",
        "builder.add_node(\"retrieval\", retrieval_node)\n",
        "builder.add_node(\"llm\", llm_with_tools_node)\n",
        "builder.add_node(\"tools\", ToolNode(tools))\n",
        "\n",
        "# connect them (add edges)\n",
        "builder.add_edge(START, \"retrieval\")\n",
        "builder.add_edge(\"retrieval\", \"llm\")\n",
        "builder.add_conditional_edges(\"llm\", tools_condition)\n",
        "builder.add_edge(\"tools\", \"llm\")\n",
        "\n",
        "# memory = MemorySaver()\n",
        "# graph = builder.compile(checkpointer=memory)\n",
        "graph = builder.compile()\n",
        "\n",
        "display(Image(graph.get_graph(xray=True).draw_mermaid_png()))"
      ]
    },
    {
      "cell_type": "markdown",
      "metadata": {},
      "source": [
        "## invoke the graph\n"
      ]
    },
    {
      "cell_type": "code",
      "execution_count": 24,
      "metadata": {
        "colab": {
          "base_uri": "https://localhost:8080/"
        },
        "id": "nWRjljdodrsg",
        "outputId": "a187f7bb-1d41-4717-ce16-86beab3c63eb"
      },
      "outputs": [
        {
          "name": "stdout",
          "output_type": "stream",
          "text": [
            "https://api.weather.gov/gridpoints/PQR/152,105/forecast\n",
            "cozy day!\n",
            "================================\u001b[1m Human Message \u001b[0m=================================\n",
            "\n",
            "what kind of day is it gonna be?\n",
            "================================\u001b[1m System Message \u001b[0m================================\n",
            "\n",
            "Partly cloudy. Low around 47, with temperatures rising to around 49 overnight. West wind around 3 mph.\n",
            "==================================\u001b[1m Ai Message \u001b[0m==================================\n",
            "Tool Calls:\n",
            "  cozy_day (call_fMeydY2EVz5MCGOefxbdDnNe)\n",
            " Call ID: call_fMeydY2EVz5MCGOefxbdDnNe\n",
            "  Args:\n",
            "=================================\u001b[1m Tool Message \u001b[0m=================================\n",
            "Name: cozy_day\n",
            "\n",
            "null\n",
            "==================================\u001b[1m Ai Message \u001b[0m==================================\n",
            "\n",
            "It looks like it's going to be a cozy inside weather day!\n"
          ]
        }
      ],
      "source": [
        "from langchain_core.messages import HumanMessage\n",
        "\n",
        "# config = {\"configurable\": {\"thread_id\": \"1\"}}\n",
        "\n",
        "messages = [HumanMessage(content=\"what kind of day is it gonna be?\")]\n",
        "messages = graph.invoke(input={\"messages\": messages})\n",
        "# messages = graph.invoke(input={\"messages\": messages}, config=config)\n",
        "\n",
        "for m in messages['messages']:\n",
        "    m.pretty_print()"
      ]
    },
    {
      "cell_type": "markdown",
      "metadata": {},
      "source": [
        "## Alternately, we could pass the weather api in as a tool\n",
        "\n",
        "(Lets ignore the other tools now)\n",
        "\n",
        "This way the agent will only get the weather if it needs it."
      ]
    },
    {
      "cell_type": "markdown",
      "metadata": {},
      "source": [
        "## build the weather tool"
      ]
    },
    {
      "cell_type": "code",
      "execution_count": 37,
      "metadata": {},
      "outputs": [],
      "source": [
        "def get_current_weather_tool():\n",
        "    \"\"\"\n",
        "        Use this to get the current weather.\n",
        "    \"\"\"\n",
        "                \n",
        "    return get_one_day_forecast()\n",
        "\n",
        "def press_the_button():\n",
        "    \"\"\"\n",
        "        Press a button!\n",
        "    \"\"\"\n",
        "\n",
        "weather_tool = [get_current_weather_tool]"
      ]
    },
    {
      "cell_type": "markdown",
      "metadata": {},
      "source": [
        "## bind the tool"
      ]
    },
    {
      "cell_type": "code",
      "execution_count": 38,
      "metadata": {},
      "outputs": [],
      "source": [
        "llm_with_weather_tool = llm.bind_tools(weather_tool)"
      ]
    },
    {
      "cell_type": "markdown",
      "metadata": {},
      "source": [
        "## build the LLM node"
      ]
    },
    {
      "cell_type": "code",
      "execution_count": 54,
      "metadata": {},
      "outputs": [],
      "source": [
        "from langgraph.graph import MessagesState\n",
        "from langchain_core.messages import trim_messages\n",
        "\n",
        "def llm_with_tools_node(state: MessagesState):\n",
        "\n",
        "  # trim the messages to the last 150 tokens worth\n",
        "  messages = trim_messages(\n",
        "      messages=state[\"messages\"],\n",
        "      strategy=\"last\",\n",
        "      token_counter=ChatOpenAI(model=\"gpt-4o-mini\"),\n",
        "      max_tokens=100,\n",
        "      start_on=\"human\",\n",
        "      allow_partial=False,\n",
        "  )\n",
        "\n",
        "  return {\"messages\": [llm_with_weather_tool.invoke(messages)]}"
      ]
    },
    {
      "cell_type": "markdown",
      "metadata": {},
      "source": [
        "## build the graph"
      ]
    },
    {
      "cell_type": "code",
      "execution_count": 55,
      "metadata": {},
      "outputs": [
        {
          "data": {
            "image/jpeg": "[encoded data removed]",
            "text/plain": [
              "<IPython.core.display.Image object>"
            ]
          },
          "metadata": {},
          "output_type": "display_data"
        }
      ],
      "source": [
        "from langgraph.graph import StateGraph, START\n",
        "from langgraph.prebuilt import ToolNode, tools_condition\n",
        "from langgraph.checkpoint.memory import MemorySaver\n",
        "from IPython.display import Image\n",
        "\n",
        "builder = StateGraph(MessagesState)\n",
        "\n",
        "# add nodes\n",
        "builder.add_node(\"llm\", llm_with_tools_node)\n",
        "builder.add_node(\"tools\", ToolNode(weather_tool))\n",
        "\n",
        "# connect them (add edges)\n",
        "builder.add_edge(START, \"llm\")\n",
        "builder.add_conditional_edges(\"llm\", tools_condition)\n",
        "builder.add_edge(\"tools\", \"llm\")\n",
        "\n",
        "graph = builder.compile()\n",
        "\n",
        "display(Image(graph.get_graph(xray=True).draw_mermaid_png()))"
      ]
    }
  ],
  "metadata": {
    "colab": {
      "authorship_tag": "ABX9TyNgYSQwvDIhALq1OgSVOTmB",
      "include_colab_link": true,
      "provenance": []
    },
    "kernelspec": {
      "display_name": "Python 3",
      "name": "python3"
    },
    "language_info": {
      "codemirror_mode": {
        "name": "ipython",
        "version": 3
      },
      "file_extension": ".py",
      "mimetype": "text/x-python",
      "name": "python",
      "nbconvert_exporter": "python",
      "pygments_lexer": "ipython3",
      "version": "3.10.14"
    }
  },
  "nbformat": 4,
  "nbformat_minor": 0
}
