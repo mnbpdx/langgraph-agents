{
  "nbformat": 4,
  "nbformat_minor": 0,
  "metadata": {
    "colab": {
      "provenance": [],
      "authorship_tag": "ABX9TyNgYSQwvDIhALq1OgSVOTmB",
      "include_colab_link": true
    },
    "kernelspec": {
      "name": "python3",
      "display_name": "Python 3"
    },
    "language_info": {
      "name": "python"
    }
  },
  "cells": [
    {
      "cell_type": "markdown",
      "metadata": {
        "id": "view-in-github",
        "colab_type": "text"
      },
      "source": [
        "<a href=\"https://colab.research.google.com/github/mnbpdx/langgraph-agents/blob/main/initial_api_call_agent.ipynb\" target=\"_parent\"><img src=\"https://colab.research.google.com/assets/colab-badge.svg\" alt=\"Open In Colab\"/></a>"
      ]
    },
    {
      "cell_type": "markdown",
      "source": [
        "# inital api call agent\n",
        "\n",
        "this agent has a retrieval node that calls an api. Unfinished, retrieval node needs to actually make a call. but fully working otherwise\n"
      ],
      "metadata": {
        "id": "kPxnk1c6QA7d"
      }
    },
    {
      "cell_type": "markdown",
      "source": [
        "## install dependencies"
      ],
      "metadata": {
        "id": "3f1WCT1hP79i"
      }
    },
    {
      "cell_type": "code",
      "execution_count": 1,
      "metadata": {
        "id": "WHpp58lpP5jh"
      },
      "outputs": [],
      "source": [
        "%pip install --quiet -U langchain_openai langchain_core langgraph langchain-pinecone pinecone-notebooks"
      ]
    },
    {
      "cell_type": "markdown",
      "source": [
        "## set the OpenAI API Key"
      ],
      "metadata": {
        "id": "ixQvSPwuQaz0"
      }
    },
    {
      "cell_type": "code",
      "source": [
        "import os, getpass\n",
        "\n",
        "def _set_env(var: str):\n",
        "  if not os.environ.get(var):\n",
        "    os.environ[var] = getpass.getpass(f\"Enter your {var}: \")\n",
        "\n",
        "_set_env(\"OPENAI_API_KEY\")"
      ],
      "metadata": {
        "colab": {
          "base_uri": "https://localhost:8080/"
        },
        "id": "ElBngd8MQeHW",
        "outputId": "7f76767e-f701-4cd2-9368-f49df5623eac"
      },
      "execution_count": 2,
      "outputs": [
        {
          "name": "stdout",
          "output_type": "stream",
          "text": [
            "Enter your OPENAI_API_KEY: ··········\n"
          ]
        }
      ]
    },
    {
      "cell_type": "markdown",
      "source": [
        "## define the LLM model"
      ],
      "metadata": {
        "id": "rRzlNxwqQ-an"
      }
    },
    {
      "cell_type": "code",
      "source": [
        "from langchain_openai import ChatOpenAI\n",
        "\n",
        "llm = ChatOpenAI(model=\"gpt-4o-mini\")"
      ],
      "metadata": {
        "id": "tTJADe6fRCC2"
      },
      "execution_count": 3,
      "outputs": []
    },
    {
      "cell_type": "code",
      "source": [],
      "metadata": {
        "id": "Ax2Tt1usNTRb"
      },
      "execution_count": null,
      "outputs": []
    },
    {
      "cell_type": "markdown",
      "source": [
        "## define tools"
      ],
      "metadata": {
        "id": "h6q8saVyReVr"
      }
    },
    {
      "cell_type": "code",
      "source": [
        "def cozy_day():\n",
        "  \"\"\"\n",
        "  If it looks like it's going to be a cozy inside weather day,\n",
        "  run this funtion.\n",
        "\n",
        "  \"\"\"\n",
        "  print(\"cozy day!\")\n",
        "\n",
        "def outside_day():\n",
        "  \"\"\"\n",
        "  If it looks like it's going to be a fun outside weather day,\n",
        "  run this funtion.\n",
        "  \"\"\"\n",
        "  print(\"outside day!\")\n",
        "\n",
        "tools = [cozy_day, outside_day]"
      ],
      "metadata": {
        "id": "8EfyEFEkRguE"
      },
      "execution_count": 12,
      "outputs": []
    },
    {
      "cell_type": "markdown",
      "source": [
        "## bind tools to the LLM"
      ],
      "metadata": {
        "id": "dL-6KdIWRm3F"
      }
    },
    {
      "cell_type": "code",
      "source": [
        "llm_with_button_press_tool = llm.bind_tools(tools)"
      ],
      "metadata": {
        "id": "s14vwKp9RsH_"
      },
      "execution_count": 13,
      "outputs": []
    },
    {
      "cell_type": "markdown",
      "source": [
        "## build the LLM node"
      ],
      "metadata": {
        "id": "dv83d3rUR17Z"
      }
    },
    {
      "cell_type": "code",
      "source": [
        "from langgraph.graph import MessagesState\n",
        "from langchain_core.messages import trim_messages\n",
        "\n",
        "def llm_with_button_press_tool_node(state: MessagesState):\n",
        "\n",
        "  # trim the messages to the last 150 tokens worth\n",
        "  messages = trim_messages(\n",
        "      messages=state[\"messages\"],\n",
        "      strategy=\"last\",\n",
        "      token_counter=ChatOpenAI(model=\"gpt-4o-mini\"),\n",
        "      max_tokens=150,\n",
        "      start_on=\"human\",\n",
        "      allow_partial=False,\n",
        "  )\n",
        "\n",
        "  return {\"messages\": [llm_with_button_press_tool.invoke(messages)]}"
      ],
      "metadata": {
        "id": "_MbEQFUeSCAM"
      },
      "execution_count": 14,
      "outputs": []
    },
    {
      "cell_type": "markdown",
      "source": [
        "## build the retrieval node"
      ],
      "metadata": {
        "id": "5yNQArnz3Kfp"
      }
    },
    {
      "cell_type": "code",
      "source": [
        "from langchain_core.messages import SystemMessage\n",
        "\n",
        "def tara_demo_function() -> str:\n",
        "    return \"It's gonna be a sunny day out there.\"\n",
        "\n",
        "def retrieval_node(state: MessagesState):\n",
        "    weather_related_text_to_pass_llm = tara_demo_function()\n",
        "\n",
        "    # Create a new SystemMessage\n",
        "    system_message = SystemMessage(content=weather_related_text_to_pass_llm)\n",
        "\n",
        "    result_message = {\"messages\": [system_message] + state[\"messages\"]}\n",
        "\n",
        "    # Return the updated messages state including the new SystemMessage\n",
        "    return result_message"
      ],
      "metadata": {
        "id": "DE2zQz_p3Mo5"
      },
      "execution_count": 31,
      "outputs": []
    },
    {
      "cell_type": "markdown",
      "source": [
        "## build the graph"
      ],
      "metadata": {
        "id": "AGw3Pjt3Turq"
      }
    },
    {
      "cell_type": "code",
      "source": [
        "from langgraph.graph import StateGraph, START\n",
        "from langgraph.prebuilt import ToolNode, tools_condition\n",
        "from langgraph.checkpoint.memory import MemorySaver\n",
        "from IPython.display import Image\n",
        "\n",
        "builder = StateGraph(MessagesState)\n",
        "\n",
        "# add nodes\n",
        "builder.add_node(\"retrieval\", retrieval_node)\n",
        "builder.add_node(\"llm\", llm_with_button_press_tool_node)\n",
        "builder.add_node(\"tools\", ToolNode(tools))\n",
        "\n",
        "# connect them (add edges)\n",
        "builder.add_edge(START, \"retrieval\")\n",
        "builder.add_edge(\"retrieval\", \"llm\")\n",
        "builder.add_conditional_edges(\"llm\", tools_condition)\n",
        "builder.add_edge(\"tools\", \"llm\")\n",
        "\n",
        "# memory = MemorySaver()\n",
        "# graph = builder.compile(checkpointer=memory)\n",
        "graph = builder.compile()\n",
        "\n",
        "display(Image(graph.get_graph(xray=True).draw_mermaid_png()))"
      ],
      "metadata": {
        "colab": {
          "base_uri": "https://localhost:8080/",
          "height": 365
        },
        "id": "XYxj1Kk3TwsS",
        "outputId": "d3eaa729-c007-4e0a-d788-759a8cc90b8c"
      },
      "execution_count": 32,
      "outputs": [
        {
          "output_type": "display_data",
          "data": {
            "image/jpeg": "[encoded data removed]",
            "text/plain": [
              "<IPython.core.display.Image object>"
            ]
          },
          "metadata": {}
        }
      ]
    },
    {
      "cell_type": "markdown",
      "source": [
        "## invoke the graph\n"
      ],
      "metadata": {
        "id": "2Oh2jQ6edpJJ"
      }
    },
    {
      "cell_type": "code",
      "source": [
        "from langchain_core.messages import HumanMessage\n",
        "\n",
        "config = {\"configurable\": {\"thread_id\": \"1\"}}\n",
        "\n",
        "messages = [HumanMessage(content=\"what kind of day is it gonna be?\")]\n",
        "messages = graph.invoke(input={\"messages\": messages}, config=config)\n",
        "\n",
        "for m in messages['messages']:\n",
        "    m.pretty_print()"
      ],
      "metadata": {
        "colab": {
          "base_uri": "https://localhost:8080/"
        },
        "id": "nWRjljdodrsg",
        "outputId": "a187f7bb-1d41-4717-ce16-86beab3c63eb"
      },
      "execution_count": 33,
      "outputs": [
        {
          "output_type": "stream",
          "name": "stdout",
          "text": [
            "outside day!\n",
            "================================\u001b[1m Human Message \u001b[0m=================================\n",
            "\n",
            "what kind of day is it gonna be?\n",
            "================================\u001b[1m System Message \u001b[0m================================\n",
            "\n",
            "It's gonna be a sunny day out there.\n",
            "==================================\u001b[1m Ai Message \u001b[0m==================================\n",
            "Tool Calls:\n",
            "  outside_day (call_nraFNaeDvulsFILhxufgbkog)\n",
            " Call ID: call_nraFNaeDvulsFILhxufgbkog\n",
            "  Args:\n",
            "=================================\u001b[1m Tool Message \u001b[0m=================================\n",
            "Name: outside_day\n",
            "\n",
            "null\n",
            "==================================\u001b[1m Ai Message \u001b[0m==================================\n",
            "\n",
            "It sounds like it's going to be a fun outside day! Enjoy the sunshine!\n"
          ]
        }
      ]
    }
  ]
}